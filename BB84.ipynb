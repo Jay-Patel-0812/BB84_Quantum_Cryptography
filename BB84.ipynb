{
  "cells": [
    {
      "cell_type": "code",
      "execution_count": null,
      "metadata": {
        "colab": {
          "base_uri": "https://localhost:8080/"
        },
        "id": "SZhrsJLwzAUH",
        "outputId": "3fcd8097-f0c6-480d-f3a7-27e9da286270"
      },
      "outputs": [
        {
          "name": "stdout",
          "output_type": "stream",
          "text": [
            "Looking in indexes: https://pypi.org/simple, https://us-python.pkg.dev/colab-wheels/public/simple/\n",
            "Requirement already satisfied: qiskit in /usr/local/lib/python3.10/dist-packages (0.43.0)\n",
            "Requirement already satisfied: qiskit-terra==0.24.0 in /usr/local/lib/python3.10/dist-packages (from qiskit) (0.24.0)\n",
            "Requirement already satisfied: qiskit-aer==0.12.0 in /usr/local/lib/python3.10/dist-packages (from qiskit) (0.12.0)\n",
            "Requirement already satisfied: qiskit-ibmq-provider==0.20.2 in /usr/local/lib/python3.10/dist-packages (from qiskit) (0.20.2)\n",
            "Requirement already satisfied: numpy>=1.16.3 in /usr/local/lib/python3.10/dist-packages (from qiskit-aer==0.12.0->qiskit) (1.22.4)\n",
            "Requirement already satisfied: scipy>=1.0 in /usr/local/lib/python3.10/dist-packages (from qiskit-aer==0.12.0->qiskit) (1.10.1)\n",
            "Requirement already satisfied: requests>=2.19 in /usr/local/lib/python3.10/dist-packages (from qiskit-ibmq-provider==0.20.2->qiskit) (2.27.1)\n",
            "Requirement already satisfied: requests-ntlm<=1.1.0 in /usr/local/lib/python3.10/dist-packages (from qiskit-ibmq-provider==0.20.2->qiskit) (1.1.0)\n",
            "Requirement already satisfied: urllib3>=1.21.1 in /usr/local/lib/python3.10/dist-packages (from qiskit-ibmq-provider==0.20.2->qiskit) (1.26.15)\n",
            "Requirement already satisfied: python-dateutil>=2.8.0 in /usr/local/lib/python3.10/dist-packages (from qiskit-ibmq-provider==0.20.2->qiskit) (2.8.2)\n",
            "Requirement already satisfied: websocket-client>=1.5.1 in /usr/local/lib/python3.10/dist-packages (from qiskit-ibmq-provider==0.20.2->qiskit) (1.5.1)\n",
            "Requirement already satisfied: websockets>=10.0 in /usr/local/lib/python3.10/dist-packages (from qiskit-ibmq-provider==0.20.2->qiskit) (11.0.3)\n",
            "Requirement already satisfied: rustworkx>=0.12.0 in /usr/local/lib/python3.10/dist-packages (from qiskit-terra==0.24.0->qiskit) (0.12.1)\n",
            "Requirement already satisfied: ply>=3.10 in /usr/local/lib/python3.10/dist-packages (from qiskit-terra==0.24.0->qiskit) (3.11)\n",
            "Requirement already satisfied: psutil>=5 in /usr/local/lib/python3.10/dist-packages (from qiskit-terra==0.24.0->qiskit) (5.9.5)\n",
            "Requirement already satisfied: sympy>=1.3 in /usr/local/lib/python3.10/dist-packages (from qiskit-terra==0.24.0->qiskit) (1.11.1)\n",
            "Requirement already satisfied: dill>=0.3 in /usr/local/lib/python3.10/dist-packages (from qiskit-terra==0.24.0->qiskit) (0.3.6)\n",
            "Requirement already satisfied: stevedore>=3.0.0 in /usr/local/lib/python3.10/dist-packages (from qiskit-terra==0.24.0->qiskit) (5.0.0)\n",
            "Requirement already satisfied: symengine<0.10,>=0.9 in /usr/local/lib/python3.10/dist-packages (from qiskit-terra==0.24.0->qiskit) (0.9.2)\n",
            "Requirement already satisfied: six>=1.5 in /usr/local/lib/python3.10/dist-packages (from python-dateutil>=2.8.0->qiskit-ibmq-provider==0.20.2->qiskit) (1.16.0)\n",
            "Requirement already satisfied: certifi>=2017.4.17 in /usr/local/lib/python3.10/dist-packages (from requests>=2.19->qiskit-ibmq-provider==0.20.2->qiskit) (2022.12.7)\n",
            "Requirement already satisfied: charset-normalizer~=2.0.0 in /usr/local/lib/python3.10/dist-packages (from requests>=2.19->qiskit-ibmq-provider==0.20.2->qiskit) (2.0.12)\n",
            "Requirement already satisfied: idna<4,>=2.5 in /usr/local/lib/python3.10/dist-packages (from requests>=2.19->qiskit-ibmq-provider==0.20.2->qiskit) (3.4)\n",
            "Requirement already satisfied: ntlm-auth>=1.0.2 in /usr/local/lib/python3.10/dist-packages (from requests-ntlm<=1.1.0->qiskit-ibmq-provider==0.20.2->qiskit) (1.5.0)\n",
            "Requirement already satisfied: cryptography>=1.3 in /usr/local/lib/python3.10/dist-packages (from requests-ntlm<=1.1.0->qiskit-ibmq-provider==0.20.2->qiskit) (40.0.2)\n",
            "Requirement already satisfied: pbr!=2.1.0,>=2.0.0 in /usr/local/lib/python3.10/dist-packages (from stevedore>=3.0.0->qiskit-terra==0.24.0->qiskit) (5.11.1)\n",
            "Requirement already satisfied: mpmath>=0.19 in /usr/local/lib/python3.10/dist-packages (from sympy>=1.3->qiskit-terra==0.24.0->qiskit) (1.3.0)\n",
            "Requirement already satisfied: cffi>=1.12 in /usr/local/lib/python3.10/dist-packages (from cryptography>=1.3->requests-ntlm<=1.1.0->qiskit-ibmq-provider==0.20.2->qiskit) (1.15.1)\n",
            "Requirement already satisfied: pycparser in /usr/local/lib/python3.10/dist-packages (from cffi>=1.12->cryptography>=1.3->requests-ntlm<=1.1.0->qiskit-ibmq-provider==0.20.2->qiskit) (2.21)\n"
          ]
        }
      ],
      "source": [
        "!pip install qiskit"
      ]
    },
    {
      "cell_type": "code",
      "execution_count": null,
      "metadata": {
        "colab": {
          "base_uri": "https://localhost:8080/"
        },
        "id": "6aTqHotg6sT6",
        "outputId": "4412716b-5617-4e01-d462-9843fd1b1b0d"
      },
      "outputs": [
        {
          "name": "stdout",
          "output_type": "stream",
          "text": [
            "Looking in indexes: https://pypi.org/simple, https://us-python.pkg.dev/colab-wheels/public/simple/\n",
            "Requirement already satisfied: pylatexenc in /usr/local/lib/python3.10/dist-packages (2.10)\n"
          ]
        }
      ],
      "source": [
        "# !pip install pylatexenc"
      ]
    },
    {
      "cell_type": "code",
      "execution_count": null,
      "metadata": {
        "colab": {
          "base_uri": "https://localhost:8080/"
        },
        "id": "yCwgao1k7GlN",
        "outputId": "7ee5285f-c6d4-4bbc-cad7-864232944a29"
      },
      "outputs": [
        {
          "name": "stdout",
          "output_type": "stream",
          "text": [
            "Reading package lists... Done\n",
            "Building dependency tree       \n",
            "Reading state information... Done\n",
            "\u001b[1;31mE: \u001b[0mUnable to locate package pylatexenc\u001b[0m\n"
          ]
        }
      ],
      "source": [
        "# !apt install pylatexenc"
      ]
    },
    {
      "cell_type": "code",
      "execution_count": null,
      "metadata": {
        "id": "NxjpfiiW12Ii"
      },
      "outputs": [],
      "source": [
        "from qiskit import QuantumCircuit, execute, Aer\n",
        "from qiskit.visualization import plot_histogram, plot_bloch_multivector\n",
        "from numpy.random import randint\n",
        "import numpy as np\n",
        "# from qiskit.providers.aer import QasmSimulator\n",
        "import pylatexenc\n",
        "# from pylatexenc import MatplotlibDrawer\n",
        "\n",
        "# import pylatexenc.MatplotlibDrawer as MatplotlibDrawer\n",
        "\n"
      ]
    },
    {
      "cell_type": "code",
      "execution_count": null,
      "metadata": {
        "id": "-kGG83325UbP"
      },
      "outputs": [],
      "source": [
        "def bb84_circuit(state, basis, measurement_basis):\n",
        "   \n",
        "    #state: array of 0s and 1s denoting the state to be encoded\n",
        "    #basis: array of 0s and 1s denoting the basis to be used for encoding\n",
        "                #0 -> Computational Basis\n",
        "                #1 -> Hadamard Basis\n",
        "    #meas_basis: array of 0s and 1s denoting the basis to be used for measurement\n",
        "                #0 -> Computational Basis\n",
        "                #1 -> Hadamard Basis\n",
        "\n",
        "    num_qubits = len(state)\n",
        "    \n",
        "    circuit = QuantumCircuit(num_qubits)\n",
        "\n",
        "    # Sender prepares qubits\n",
        "    for i in range(len(basis)):\n",
        "        if state[i] == 1:\n",
        "            circuit.x(i)\n",
        "        if basis[i] == 1:\n",
        "            circuit.h(i)\n",
        "   \n",
        "\n",
        "    # Measuring action performed by Bob\n",
        "    for i in range(len(measurement_basis)):\n",
        "        if measurement_basis[i] == 1:\n",
        "            circuit.h(i)\n",
        "\n",
        "       \n",
        "    circuit.measure_all()\n",
        "    # circuit.draw('mpl')\n",
        "    \n",
        "    return circuit"
      ]
    },
    {
      "cell_type": "code",
      "execution_count": null,
      "metadata": {
        "colab": {
          "base_uri": "https://localhost:8080/"
        },
        "id": "ry8ldpZM5QcC",
        "outputId": "3fc7a0f9-73bd-4962-9b76-a43330413613"
      },
      "outputs": [
        {
          "name": "stdout",
          "output_type": "stream",
          "text": [
            "Alice's State:\t [0 1 1 1 0 0 1 1 1 0 0 0 0 1 0 1 0 0 1 1 0 0 0 0 0 0 1 1 0 1 0 0]\n",
            "Alice's Bases:\t [0 1 0 1 0 0 1 1 0 0 1 1 1 1 1 1 0 1 0 0 1 0 1 0 0 1 0 1 0 1 0 0]\n",
            "Bob's Bases:\t [0 0 1 1 0 1 1 0 1 0 0 0 1 0 1 0 1 0 0 0 0 1 0 0 0 0 0 0 0 0 0 1]\n"
          ]
        }
      ],
      "source": [
        "num_qubits = 32\n",
        "\n",
        "alice_basis = np.random.randint(2, size=num_qubits)\n",
        "alice_state = np.random.randint(2, size=num_qubits)\n",
        "bob_basis = np.random.randint(2, size=num_qubits)\n",
        "\n",
        "\n",
        "print(f\"Alice's State:\\t {np.array2string(alice_state)}\")\n",
        "print(f\"Alice's Bases:\\t {np.array2string(alice_basis)}\")\n",
        "print(f\"Bob's Bases:\\t {np.array2string(bob_basis)}\")"
      ]
    },
    {
      "cell_type": "code",
      "execution_count": null,
      "metadata": {
        "colab": {
          "base_uri": "https://localhost:8080/"
        },
        "id": "aTw8UpEk5VO3",
        "outputId": "b9d2e7dd-0352-446c-857b-b565557386f1"
      },
      "outputs": [
        {
          "name": "stdout",
          "output_type": "stream",
          "text": [
            "Key: 01010001100100 \n",
            "Key Size: 14\n"
          ]
        }
      ],
      "source": [
        "circuit = bb84_circuit(alice_state, alice_basis, bob_basis)\n",
        "key = execute(circuit.reverse_bits(),backend=QasmSimulator(),shots=1).result().get_counts().most_frequent()\n",
        "\n",
        "shifted_key = ''\n",
        "for i in range(num_qubits):\n",
        "    if alice_basis[i] == bob_basis[i]:\n",
        "         shifted_key += str(key[i])\n",
        "print(f\"Key: {shifted_key} \\nKey Size: {len(shifted_key)}\")"
      ]
    },
    {
      "cell_type": "code",
      "execution_count": null,
      "metadata": {
        "id": "7u86SaTT06JW"
      },
      "outputs": [],
      "source": [
        "from qiskit import QuantumCircuit, execute, Aer\n",
        "from qiskit.providers.aer import QasmSimulator\n",
        "import numpy as np\n",
        "\n",
        "# num_qubits = 32\n",
        "\n",
        "# alice_basis = np.random.randint(2, size=num_qubits)\n",
        "# alice_state = np.random.randint(2, size=num_qubits)\n",
        "# bob_basis = np.random.randint(2, size=num_qubits)\n",
        "\n",
        "# print(f\"Alice's State:\\t {np.array2string(alice_state)}\")\n",
        "# print(f\"Alice's Bases:\\t {np.array2string(alice_basis)}\")\n",
        "# print(f\"Bob's Bases:\\t {np.array2string(bob_basis)}\")\n",
        "\n",
        "def bb84_circuit_eve(state, basis, measurement_basis, eve_present):\n",
        "    num_qubits = len(state)\n",
        "    circuit = QuantumCircuit(num_qubits, num_qubits)\n",
        "\n",
        "    # Sender prepares qubits\n",
        "    for i in range(num_qubits):\n",
        "        if state[i] == 1:\n",
        "            circuit.x(i)\n",
        "        if basis[i] == 1:\n",
        "            circuit.h(i)\n",
        "\n",
        "    # Eavesdropper (Eve) intercepts and measures qubits\n",
        "    if eve_present:\n",
        "        eve_basis = np.random.randint(2, size=num_qubits)\n",
        "        for i in range(num_qubits):\n",
        "            if eve_basis[i] == 1:\n",
        "                circuit.h(i)\n",
        "            circuit.measure(i, i)\n",
        "        # return circuit\n",
        "\n",
        "    # Measuring action performed by Bob\n",
        "    for i in range(num_qubits):\n",
        "        if measurement_basis[i] == 1:\n",
        "            circuit.h(i)\n",
        "    \n",
        "    circuit.measure(range(num_qubits), range(num_qubits))\n",
        "    \n",
        "    return circuit"
      ]
    },
    {
      "cell_type": "code",
      "execution_count": null,
      "metadata": {
        "colab": {
          "base_uri": "https://localhost:8080/"
        },
        "id": "Fd5a_K9SrdRC",
        "outputId": "fad44f4d-2a85-4363-e38b-3a7c2a638aca"
      },
      "outputs": [
        {
          "name": "stdout",
          "output_type": "stream",
          "text": [
            "Alice's State:\t [1 0 1 0 1 1 1 1 0 1 1 1 0 0 1 0 0 0 0 1 1 1 0 1 1 0 1 0 1 1 1 1]\n",
            "Alice's Bases:\t [0 0 1 1 0 0 1 1 0 1 0 0 0 0 1 0 0 1 0 1 0 0 0 1 0 0 0 1 1 1 1 1]\n",
            "Bob's Bases:\t [1 1 1 0 0 1 0 1 0 1 1 1 1 1 0 0 1 0 1 1 1 1 1 1 0 0 1 1 1 0 1 1]\n"
          ]
        }
      ],
      "source": [
        "num_qubits = 32\n",
        "\n",
        "alice_basis = np.random.randint(2, size=num_qubits)\n",
        "alice_state = np.random.randint(2, size=num_qubits)\n",
        "bob_basis = np.random.randint(2, size=num_qubits)\n",
        "\n",
        "\n",
        "print(f\"Alice's State:\\t {np.array2string(alice_state)}\")\n",
        "print(f\"Alice's Bases:\\t {np.array2string(alice_basis)}\")\n",
        "print(f\"Bob's Bases:\\t {np.array2string(bob_basis)}\")"
      ]
    },
    {
      "cell_type": "code",
      "execution_count": null,
      "metadata": {
        "colab": {
          "base_uri": "https://localhost:8080/"
        },
        "id": "8VIOBGZ_rfDH",
        "outputId": "0ff750ba-c953-4dba-a65c-b837bb4b0a42"
      },
      "outputs": [
        {
          "name": "stdout",
          "output_type": "stream",
          "text": [
            "Key: 10011001100000 \n",
            "Bob's Key: 11101011100111\n",
            "Key Size: 14\n",
            "Difference between the shifted key and bob's key 7\n"
          ]
        }
      ],
      "source": [
        "circuit = bb84_circuit_eve(alice_state, alice_basis, bob_basis, 1)\n",
        "key = execute(circuit.reverse_bits(),backend=QasmSimulator(),shots=1).result().get_counts().most_frequent()\n",
        "\n",
        "shifted_key = ''\n",
        "bob_key = ''\n",
        "count = 0\n",
        "for i in range(num_qubits):\n",
        "    if alice_basis[i] == bob_basis[i]:\n",
        "         shifted_key += str(key[i])\n",
        "         bob_key += str(alice_state[i])\n",
        "         if(str(key[i]) != str(alice_state[i])):\n",
        "            count += 1\n",
        "\n",
        "print(f\"Key: {shifted_key} \\nBob's Key: {bob_key}\")\n",
        "print(f\"Key Size: {len(shifted_key)}\")\n",
        "\n",
        "# count = 0\n",
        "# for i in range(len(shifted_key)):\n",
        "#     if shifted_key[i] != bob_key[i]:\n",
        "#         count += 1\n",
        "print(f\"Difference between the shifted key and bob's key\", len(shifted_key) - count)"
      ]
    }
  ],
  "metadata": {
    "colab": {
      "provenance": [],
      "toc_visible": true
    },
    "kernelspec": {
      "display_name": "Python 3",
      "name": "python3"
    },
    "language_info": {
      "name": "python"
    }
  },
  "nbformat": 4,
  "nbformat_minor": 0
}
